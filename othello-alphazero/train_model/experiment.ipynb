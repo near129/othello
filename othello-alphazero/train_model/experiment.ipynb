{
 "cells": [
  {
   "cell_type": "code",
   "execution_count": null,
   "metadata": {},
   "outputs": [],
   "source": [
    "from main import *\n",
    "\n",
    "warnings.simplefilter('ignore')\n",
    "\n",
    "model_path: Optional[Path] = Path('../models/latest.ckpt')\n",
    "onnx_model_path: Path = Path('../models/model.onnx')\n",
    "data_path: Path = Path('../data')\n",
    "num_simulation: int = 500\n",
    "num_iter: int = 100\n",
    "num_worker = os.cpu_count()\n",
    "print(data_path)\n",
    "module = LightingModule()\n",
    "policy = np.load(data_path / 'policy.npy')\n",
    "states = np.load(data_path / 'states.npy').astype(np.float32)\n",
    "values = np.load(data_path / 'values.npy').astype(np.float32)\n",
    "train_p, val_p, train_s, val_s, train_v, val_v = train_test_split(\n",
    "    policy, states, values, test_size=0.2, shuffle=True, random_state=42\n",
    ")\n",
    "train_dataset = Dataset(train_s, train_p, train_v)\n",
    "val_dataset = Dataset(val_s, val_p, val_v)\n",
    "train_dataloder = DataLoader(train_dataset, batch_size=256, shuffle=True)\n",
    "val_dataloder = DataLoader(val_dataset, batch_size=256)\n",
    "trainer = pl.Trainer(\n",
    "    min_epochs=10,\n",
    "    max_epochs=100,\n",
    "    log_every_n_steps=10,\n",
    "    logger=[],\n",
    "    callbacks=[\n",
    "        EarlyStopping(monitor='val_loss'),\n",
    "    ],\n",
    "    checkpoint_callback=False,\n",
    ")\n",
    "trainer.fit(module, train_dataloder, val_dataloder)\n",
    "trainer.save_checkpoint(model_path)"
   ]
  },
  {
   "cell_type": "code",
   "execution_count": null,
   "metadata": {},
   "outputs": [],
   "source": [
    "from main import *\n",
    "lightningmodule = LightingModule()\n",
    "dummy_input = torch.randn(1, 2, 8, 8)"
   ]
  },
  {
   "cell_type": "code",
   "execution_count": null,
   "metadata": {},
   "outputs": [],
   "source": [
    "class Model(torch.nn.Module):\n",
    "    def __init__(self):\n",
    "        super().__init__()\n",
    "        self.height = self.width = 8\n",
    "        self.ouput_size = 8 * 8\n",
    "        self.dropout_late = 0.5\n",
    "        in_channels = 2\n",
    "        channels = 16\n",
    "\n",
    "        self.relu = nn.ReLU()\n",
    "        self.layer1 = nn.Sequential(\n",
    "            nn.Conv2d(in_channels, channels, 3, padding=1),\n",
    "            nn.BatchNorm2d(channels),\n",
    "            self.relu,\n",
    "            nn.Conv2d(channels, channels, 3, padding=1),\n",
    "            nn.BatchNorm2d(channels),\n",
    "            self.relu,\n",
    "            nn.Conv2d(channels, channels, 3),\n",
    "            nn.BatchNorm2d(channels),\n",
    "            self.relu,\n",
    "            nn.Conv2d(channels, channels, 3),\n",
    "            nn.BatchNorm2d(channels),\n",
    "            self.relu,\n",
    "        )\n",
    "\n",
    "        self.fc_input = channels * (self.width - 4) * (self.height - 4)\n",
    "        self.dropout = nn.Dropout(self.dropout_late, inplace=True)\n",
    "        self.layer2 = nn.Sequential(\n",
    "            nn.Linear(self.fc_input, 512),\n",
    "            nn.BatchNorm1d(512),\n",
    "            self.relu,\n",
    "            self.dropout,\n",
    "            nn.Linear(512, 256),\n",
    "            nn.BatchNorm1d(256),\n",
    "            self.relu,\n",
    "            self.dropout,\n",
    "        )\n",
    "\n",
    "        self.fc3 = nn.Linear(256, 64)\n",
    "        self.fc4 = nn.Linear(256, 1)\n",
    "        self.softmax = nn.Softmax(dim=1)\n",
    "        self.tanh = nn.Tanh()\n",
    "\n",
    "    def forward(self, x):\n",
    "        x = self.layer1(x)\n",
    "        x = x.view(-1, self.fc_input)\n",
    "        x = self.layer2(x)\n",
    "        policy = self.fc3(x)\n",
    "        value = self.fc4(x)\n",
    "        return self.softmax(policy), self.tanh(value)"
   ]
  },
  {
   "cell_type": "code",
   "execution_count": null,
   "metadata": {},
   "outputs": [],
   "source": [
    "torch.backends.quantized.supported_engines"
   ]
  },
  {
   "cell_type": "code",
   "execution_count": null,
   "metadata": {},
   "outputs": [],
   "source": [
    "model_i8 = torch.quantization.quantize_dynamic(Model())"
   ]
  },
  {
   "cell_type": "code",
   "execution_count": null,
   "metadata": {},
   "outputs": [],
   "source": [
    "lightningmodule.to_onnx('../models/model_i8.onnx', dummy_input, export_params=True)"
   ]
  },
  {
   "cell_type": "code",
   "execution_count": null,
   "metadata": {},
   "outputs": [],
   "source": [
    "from main import *"
   ]
  },
  {
   "cell_type": "code",
   "execution_count": null,
   "metadata": {},
   "outputs": [],
   "source": [
    "\n",
    "policy = np.load(data_path / 'policy.npy')\n",
    "states = np.load(data_path / 'states.npy').astype(np.float32)\n",
    "values = np.load(data_path / 'values.npy').astype(np.float32)\n",
    "train_p, val_p, train_s, val_s, train_v, val_v = train_test_split(\n",
    "    policy, states, values, test_size=0.2, shuffle=True, random_state=42\n",
    ")\n",
    "train_dataset = Dataset(train_s, train_p, train_v)\n",
    "val_dataset = Dataset(val_s, val_p, val_v)\n",
    "train_dataloder = DataLoader(train_dataset, batch_size=256, shuffle=True)\n",
    "val_dataloder = DataLoader(val_dataset, batch_size=256)\n",
    "trainer = pl.Trainer(\n",
    "    min_epochs=10,\n",
    "    max_epochs=100,\n",
    "    log_every_n_steps=10,\n",
    "    logger=[],\n",
    "    callbacks=[\n",
    "        EarlyStopping(monitor='val_loss'),\n",
    "    ],\n",
    "    checkpoint_callback=False,\n",
    ")\n",
    "trainer.fit(module, train_dataloder, val_dataloder)"
   ]
  },
  {
   "cell_type": "code",
   "execution_count": null,
   "metadata": {},
   "outputs": [],
   "source": [
    "import torch\n",
    "import torch.nn as nn\n",
    "import torch.nn.functional as F\n",
    "\n",
    "class OthelloNNet(nn.Module):\n",
    "    def __init__(self):\n",
    "        # game params\n",
    "        self.board_x= self.board_y = 8\n",
    "        self.action_size = 65\n",
    "        num_channels = 512\n",
    "        self.num_channels = num_channels\n",
    "        self.dropout = 0.3\n",
    "\n",
    "        super(OthelloNNet, self).__init__()\n",
    "        self.conv1 = nn.Conv2d(1, num_channels, 3, stride=1, padding=1)\n",
    "        self.conv2 = nn.Conv2d(num_channels, num_channels, 3, stride=1, padding=1)\n",
    "        self.conv3 = nn.Conv2d(num_channels, num_channels, 3, stride=1)\n",
    "        self.conv4 = nn.Conv2d(num_channels, num_channels, 3, stride=1)\n",
    "\n",
    "        self.bn1 = nn.BatchNorm2d(num_channels)\n",
    "        self.bn2 = nn.BatchNorm2d(num_channels)\n",
    "        self.bn3 = nn.BatchNorm2d(num_channels)\n",
    "        self.bn4 = nn.BatchNorm2d(num_channels)\n",
    "\n",
    "        self.fc1 = nn.Linear(num_channels*(self.board_x-4)*(self.board_y-4), 1024)\n",
    "        self.fc_bn1 = nn.BatchNorm1d(1024)\n",
    "\n",
    "        self.fc2 = nn.Linear(1024, 512)\n",
    "        self.fc_bn2 = nn.BatchNorm1d(512)\n",
    "\n",
    "        self.fc3 = nn.Linear(512, self.action_size)\n",
    "\n",
    "        self.fc4 = nn.Linear(512, 1)\n",
    "\n",
    "    def forward(self, s):\n",
    "        #                                                           s: batch_size x board_x x board_y\n",
    "        s = s.view(-1, 1, self.board_x, self.board_y)                # batch_size x 1 x board_x x board_y\n",
    "        s = F.relu(self.bn1(self.conv1(s)))                          # batch_size x num_channels x board_x x board_y\n",
    "        s = F.relu(self.bn2(self.conv2(s)))                          # batch_size x num_channels x board_x x board_y\n",
    "        s = F.relu(self.bn3(self.conv3(s)))                          # batch_size x num_channels x (board_x-2) x (board_y-2)\n",
    "        s = F.relu(self.bn4(self.conv4(s)))                          # batch_size x num_channels x (board_x-4) x (board_y-4)\n",
    "        s = s.view(-1, self.num_channels*(self.board_x-4)*(self.board_y-4))\n",
    "\n",
    "        s = F.dropout(F.relu(self.fc_bn1(self.fc1(s))), p=self.dropout, training=self.training)  # batch_size x 1024\n",
    "        s = F.dropout(F.relu(self.fc_bn2(self.fc2(s))), p=self.dropout, training=self.training)  # batch_size x 512\n",
    "\n",
    "        pi = self.fc3(s)                                                                         # batch_size x action_size\n",
    "        v = self.fc4(s)                                                                          # batch_size x 1\n",
    "\n",
    "        return F.softmax(pi, dim=1), torch.tanh(v)"
   ]
  },
  {
   "cell_type": "code",
   "execution_count": null,
   "metadata": {},
   "outputs": [],
   "source": [
    "othellonet = OthelloNNet()\n",
    "othellonet.load_state_dict(torch.load('/Users/near129/Downloads/8x8_100checkpoints_best.pth.tar', map_location=torch.device('cpu'))['state_dict'])"
   ]
  },
  {
   "cell_type": "code",
   "execution_count": null,
   "metadata": {},
   "outputs": [],
   "source": [
    "torch.onnx.export(othellonet, torch.randn((1, 8, 8)), 'othellonet.onnx')"
   ]
  },
  {
   "cell_type": "code",
   "execution_count": null,
   "metadata": {},
   "outputs": [],
   "source": [
    "othellonet.eval()\n",
    "othellonet(torch.randn((1, 8, 8)))[0].shape"
   ]
  },
  {
   "cell_type": "code",
   "execution_count": null,
   "metadata": {},
   "outputs": [],
   "source": [
    "import onnx"
   ]
  },
  {
   "cell_type": "code",
   "execution_count": null,
   "metadata": {},
   "outputs": [],
   "source": [
    "model = onnx.load('othellonet.onnx')\n",
    "onnx.checker.check_model(model)"
   ]
  },
  {
   "cell_type": "code",
   "execution_count": null,
   "metadata": {},
   "outputs": [],
   "source": [
    "from pathlib import Path\n",
    "import numpy as np\n",
    "import pandas as pd\n",
    "\n",
    "data_path = Path('../data')\n",
    "policy = np.load(data_path / 'policy.npy')\n",
    "states = np.load(data_path / 'states.npy').astype(np.float32)\n",
    "values = np.load(data_path / 'values.npy').astype(np.float32)\n",
    "print(len(np.unique(states, axis=0)))\n",
    "policy = [\n",
    "    np.rot90(policy.reshape(-1, 8, 8), i, (1, 2)).reshape(-1, 64)\n",
    "    for i in range(4)\n",
    "]\n",
    "states = [np.rot90(states, i, (2, 3)) for i in range(4)]\n",
    "values = [values for _ in range(4)] * 2\n",
    "policy += [np.fliplr(p) for p in policy]\n",
    "states += [np.fliplr(s) for s in states]\n",
    "policy = np.concatenate(policy)\n",
    "states = np.concatenate(states)\n",
    "values = np.concatenate(values)\n",
    "print(len(np.unique(states, axis=0)))"
   ]
  },
  {
   "cell_type": "code",
   "execution_count": null,
   "metadata": {},
   "outputs": [],
   "source": [
    "states.shape, policy.shape, values.shape"
   ]
  },
  {
   "cell_type": "code",
   "execution_count": null,
   "metadata": {},
   "outputs": [],
   "source": [
    "df = pd.DataFrame()\n",
    "df['values'] = values\n",
    "df['states']= list(states)\n",
    "df['policy']= list(policy)\n",
    "df.shape, df.head()"
   ]
  },
  {
   "cell_type": "code",
   "execution_count": null,
   "metadata": {},
   "outputs": [],
   "source": []
  },
  {
   "cell_type": "code",
   "execution_count": null,
   "metadata": {},
   "outputs": [],
   "source": [
    "x = np.arange(8).reshape(4, 2)\n",
    "x"
   ]
  },
  {
   "cell_type": "code",
   "execution_count": null,
   "metadata": {},
   "outputs": [],
   "source": [
    "x1 = np.rot90(x)\n",
    "x1"
   ]
  },
  {
   "cell_type": "code",
   "execution_count": null,
   "metadata": {},
   "outputs": [],
   "source": [
    "np.fliplr(x1)"
   ]
  },
  {
   "cell_type": "code",
   "execution_count": null,
   "metadata": {},
   "outputs": [],
   "source": [
    "x1"
   ]
  },
  {
   "cell_type": "code",
   "execution_count": null,
   "metadata": {},
   "outputs": [],
   "source": []
  }
 ],
 "metadata": {
  "interpreter": {
   "hash": "e0289065fd70ee0301126581a02cae4c59a3b78f12d586ce6d502aba513ac9a8"
  },
  "kernelspec": {
   "display_name": "Python 3.9.6 64-bit ('ml': conda)",
   "name": "python3"
  },
  "language_info": {
   "codemirror_mode": {
    "name": "ipython",
    "version": 3
   },
   "file_extension": ".py",
   "mimetype": "text/x-python",
   "name": "python",
   "nbconvert_exporter": "python",
   "pygments_lexer": "ipython3",
   "version": "3.9.6"
  },
  "orig_nbformat": 4
 },
 "nbformat": 4,
 "nbformat_minor": 2
}
