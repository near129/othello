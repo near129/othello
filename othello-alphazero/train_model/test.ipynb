{
 "cells": [
  {
   "cell_type": "code",
   "execution_count": 5,
   "source": [
    "from main import *\n",
    "\n",
    "warnings.simplefilter('ignore')\n",
    "\n",
    "model_path: Optional[Path] = Path('../models/latest.ckpt')\n",
    "onnx_model_path: Path = Path('../models/model.onnx')\n",
    "data_path: Path = Path('../data')\n",
    "num_simulation: int = 500\n",
    "num_iter: int = 100\n",
    "num_worker = os.cpu_count()\n",
    "print(data_path)\n",
    "module = LightingModule()\n",
    "policy = np.load(data_path / 'policy.npy')\n",
    "states = np.load(data_path / 'states.npy').astype(np.float32)\n",
    "values = np.load(data_path / 'values.npy').astype(np.float32)\n",
    "train_p, val_p, train_s, val_s, train_v, val_v = train_test_split(\n",
    "    policy, states, values, test_size=0.2, shuffle=True, random_state=42\n",
    ")\n",
    "train_dataset = Dataset(train_s, train_p, train_v)\n",
    "val_dataset = Dataset(val_s, val_p, val_v)\n",
    "train_dataloder = DataLoader(train_dataset, batch_size=256, shuffle=True)\n",
    "val_dataloder = DataLoader(val_dataset, batch_size=256)\n",
    "trainer = pl.Trainer(\n",
    "    min_epochs=10,\n",
    "    max_epochs=100,\n",
    "    log_every_n_steps=10,\n",
    "    logger=[],\n",
    "    callbacks=[\n",
    "        EarlyStopping(monitor='val_loss'),\n",
    "    ],\n",
    "    checkpoint_callback=False,\n",
    ")\n",
    "trainer.fit(module, train_dataloder, val_dataloder)\n",
    "trainer.save_checkpoint(model_path)"
   ],
   "outputs": [
    {
     "output_type": "stream",
     "name": "stderr",
     "text": [
      "GPU available: False, used: False\n",
      "TPU available: False, using: 0 TPU cores\n",
      "IPU available: False, using: 0 IPUs\n",
      "\n",
      "  | Name   | Type              | Params\n",
      "---------------------------------------------\n",
      "0 | model  | Model             | 288 K \n",
      "1 | loss_p | BCEWithLogitsLoss | 0     \n",
      "2 | loss_v | MSELoss           | 0     \n",
      "---------------------------------------------\n",
      "288 K     Trainable params\n",
      "0         Non-trainable params\n",
      "288 K     Total params\n",
      "1.154     Total estimated model params size (MB)\n"
     ]
    },
    {
     "output_type": "stream",
     "name": "stdout",
     "text": [
      "../data\n",
      "Epoch 23: 100%|██████████| 233/233 [00:04<00:00, 49.33it/s, loss=1.13, v_num=]\n"
     ]
    }
   ],
   "metadata": {}
  },
  {
   "cell_type": "code",
   "execution_count": null,
   "source": [],
   "outputs": [],
   "metadata": {}
  }
 ],
 "metadata": {
  "orig_nbformat": 4,
  "language_info": {
   "name": "python",
   "version": "3.9.1",
   "mimetype": "text/x-python",
   "codemirror_mode": {
    "name": "ipython",
    "version": 3
   },
   "pygments_lexer": "ipython3",
   "nbconvert_exporter": "python",
   "file_extension": ".py"
  },
  "kernelspec": {
   "name": "python3",
   "display_name": "Python 3.9.1 64-bit ('.venv': poetry)"
  },
  "interpreter": {
   "hash": "2f6eb6deb3e70d40632ec7532e000eac592f47aaee0a62ef70152c8f5544b806"
  }
 },
 "nbformat": 4,
 "nbformat_minor": 2
}